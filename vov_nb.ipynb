{
 "cells": [
  {
   "cell_type": "code",
   "execution_count": 1,
   "metadata": {},
   "outputs": [],
   "source": [
    "import tensorflow as tf"
   ]
  },
  {
   "cell_type": "code",
   "execution_count": 2,
   "metadata": {},
   "outputs": [],
   "source": [
    "import pandas as pd"
   ]
  },
  {
   "cell_type": "markdown",
   "metadata": {},
   "source": [
    "### The Kaggle file provides 4 folders: \n",
    "volcanoes_test ,  Volcanoes_test,  volcanoes_train,  Volcanoes_train"
   ]
  },
  {
   "cell_type": "markdown",
   "metadata": {},
   "source": [
    "#### I check df.equals() on the training sets and they see, to be the exact same files"
   ]
  },
  {
   "cell_type": "code",
   "execution_count": 3,
   "metadata": {},
   "outputs": [],
   "source": [
    "X = pd.read_csv('volcanoe-data/volcanoes_train/train_images.csv',header= None)\n",
    "y = pd.read_csv('volcanoe-data/volcanoes_train/train_labels.csv')"
   ]
  },
  {
   "cell_type": "code",
   "execution_count": 95,
   "metadata": {},
   "outputs": [],
   "source": [
    "y1 = pd.read_csv('volcanoe-data/volcanoes_train/train_labels.csv')"
   ]
  },
  {
   "cell_type": "code",
   "execution_count": 97,
   "metadata": {},
   "outputs": [
    {
     "data": {
      "text/html": [
       "<div>\n",
       "<style scoped>\n",
       "    .dataframe tbody tr th:only-of-type {\n",
       "        vertical-align: middle;\n",
       "    }\n",
       "\n",
       "    .dataframe tbody tr th {\n",
       "        vertical-align: top;\n",
       "    }\n",
       "\n",
       "    .dataframe thead th {\n",
       "        text-align: right;\n",
       "    }\n",
       "</style>\n",
       "<table border=\"1\" class=\"dataframe\">\n",
       "  <thead>\n",
       "    <tr style=\"text-align: right;\">\n",
       "      <th></th>\n",
       "      <th>Volcano?</th>\n",
       "      <th>Type</th>\n",
       "      <th>Radius</th>\n",
       "      <th>Number Volcanoes</th>\n",
       "    </tr>\n",
       "  </thead>\n",
       "  <tbody>\n",
       "    <tr>\n",
       "      <th>0</th>\n",
       "      <td>1</td>\n",
       "      <td>3.0</td>\n",
       "      <td>17.46</td>\n",
       "      <td>1.0</td>\n",
       "    </tr>\n",
       "    <tr>\n",
       "      <th>9</th>\n",
       "      <td>1</td>\n",
       "      <td>1.0</td>\n",
       "      <td>22.02</td>\n",
       "      <td>1.0</td>\n",
       "    </tr>\n",
       "    <tr>\n",
       "      <th>15</th>\n",
       "      <td>1</td>\n",
       "      <td>1.0</td>\n",
       "      <td>14.76</td>\n",
       "      <td>1.0</td>\n",
       "    </tr>\n",
       "    <tr>\n",
       "      <th>29</th>\n",
       "      <td>1</td>\n",
       "      <td>4.0</td>\n",
       "      <td>6.40</td>\n",
       "      <td>1.0</td>\n",
       "    </tr>\n",
       "    <tr>\n",
       "      <th>34</th>\n",
       "      <td>1</td>\n",
       "      <td>3.0</td>\n",
       "      <td>21.63</td>\n",
       "      <td>2.0</td>\n",
       "    </tr>\n",
       "    <tr>\n",
       "      <th>...</th>\n",
       "      <td>...</td>\n",
       "      <td>...</td>\n",
       "      <td>...</td>\n",
       "      <td>...</td>\n",
       "    </tr>\n",
       "    <tr>\n",
       "      <th>6940</th>\n",
       "      <td>1</td>\n",
       "      <td>2.0</td>\n",
       "      <td>25.50</td>\n",
       "      <td>1.0</td>\n",
       "    </tr>\n",
       "    <tr>\n",
       "      <th>6947</th>\n",
       "      <td>1</td>\n",
       "      <td>2.0</td>\n",
       "      <td>21.10</td>\n",
       "      <td>1.0</td>\n",
       "    </tr>\n",
       "    <tr>\n",
       "      <th>6949</th>\n",
       "      <td>1</td>\n",
       "      <td>4.0</td>\n",
       "      <td>4.00</td>\n",
       "      <td>1.0</td>\n",
       "    </tr>\n",
       "    <tr>\n",
       "      <th>6975</th>\n",
       "      <td>1</td>\n",
       "      <td>3.0</td>\n",
       "      <td>27.02</td>\n",
       "      <td>1.0</td>\n",
       "    </tr>\n",
       "    <tr>\n",
       "      <th>6979</th>\n",
       "      <td>1</td>\n",
       "      <td>4.0</td>\n",
       "      <td>4.47</td>\n",
       "      <td>2.0</td>\n",
       "    </tr>\n",
       "  </tbody>\n",
       "</table>\n",
       "<p>1000 rows × 4 columns</p>\n",
       "</div>"
      ],
      "text/plain": [
       "      Volcano?  Type  Radius  Number Volcanoes\n",
       "0            1   3.0   17.46               1.0\n",
       "9            1   1.0   22.02               1.0\n",
       "15           1   1.0   14.76               1.0\n",
       "29           1   4.0    6.40               1.0\n",
       "34           1   3.0   21.63               2.0\n",
       "...        ...   ...     ...               ...\n",
       "6940         1   2.0   25.50               1.0\n",
       "6947         1   2.0   21.10               1.0\n",
       "6949         1   4.0    4.00               1.0\n",
       "6975         1   3.0   27.02               1.0\n",
       "6979         1   4.0    4.47               2.0\n",
       "\n",
       "[1000 rows x 4 columns]"
      ]
     },
     "execution_count": 97,
     "metadata": {},
     "output_type": "execute_result"
    }
   ],
   "source": [
    "y1[y1['Type'].notnull()]"
   ]
  },
  {
   "cell_type": "markdown",
   "metadata": {},
   "source": [
    "#### The two y train sets seem to be exactly the same too. So, I will choose the lower case one"
   ]
  },
  {
   "cell_type": "code",
   "execution_count": 7,
   "metadata": {},
   "outputs": [
    {
     "data": {
      "text/html": [
       "<div>\n",
       "<style scoped>\n",
       "    .dataframe tbody tr th:only-of-type {\n",
       "        vertical-align: middle;\n",
       "    }\n",
       "\n",
       "    .dataframe tbody tr th {\n",
       "        vertical-align: top;\n",
       "    }\n",
       "\n",
       "    .dataframe thead th {\n",
       "        text-align: right;\n",
       "    }\n",
       "</style>\n",
       "<table border=\"1\" class=\"dataframe\">\n",
       "  <thead>\n",
       "    <tr style=\"text-align: right;\">\n",
       "      <th></th>\n",
       "      <th>0</th>\n",
       "      <th>1</th>\n",
       "      <th>2</th>\n",
       "      <th>3</th>\n",
       "      <th>4</th>\n",
       "      <th>5</th>\n",
       "      <th>6</th>\n",
       "      <th>7</th>\n",
       "      <th>8</th>\n",
       "      <th>9</th>\n",
       "      <th>...</th>\n",
       "      <th>12090</th>\n",
       "      <th>12091</th>\n",
       "      <th>12092</th>\n",
       "      <th>12093</th>\n",
       "      <th>12094</th>\n",
       "      <th>12095</th>\n",
       "      <th>12096</th>\n",
       "      <th>12097</th>\n",
       "      <th>12098</th>\n",
       "      <th>12099</th>\n",
       "    </tr>\n",
       "  </thead>\n",
       "  <tbody>\n",
       "    <tr>\n",
       "      <th>0</th>\n",
       "      <td>95</td>\n",
       "      <td>101</td>\n",
       "      <td>99</td>\n",
       "      <td>103</td>\n",
       "      <td>95</td>\n",
       "      <td>86</td>\n",
       "      <td>96</td>\n",
       "      <td>89</td>\n",
       "      <td>70</td>\n",
       "      <td>104</td>\n",
       "      <td>...</td>\n",
       "      <td>111</td>\n",
       "      <td>107</td>\n",
       "      <td>92</td>\n",
       "      <td>89</td>\n",
       "      <td>103</td>\n",
       "      <td>99</td>\n",
       "      <td>117</td>\n",
       "      <td>116</td>\n",
       "      <td>118</td>\n",
       "      <td>96</td>\n",
       "    </tr>\n",
       "    <tr>\n",
       "      <th>1</th>\n",
       "      <td>91</td>\n",
       "      <td>92</td>\n",
       "      <td>91</td>\n",
       "      <td>89</td>\n",
       "      <td>92</td>\n",
       "      <td>93</td>\n",
       "      <td>96</td>\n",
       "      <td>101</td>\n",
       "      <td>107</td>\n",
       "      <td>104</td>\n",
       "      <td>...</td>\n",
       "      <td>103</td>\n",
       "      <td>92</td>\n",
       "      <td>93</td>\n",
       "      <td>95</td>\n",
       "      <td>98</td>\n",
       "      <td>105</td>\n",
       "      <td>104</td>\n",
       "      <td>100</td>\n",
       "      <td>90</td>\n",
       "      <td>81</td>\n",
       "    </tr>\n",
       "    <tr>\n",
       "      <th>2</th>\n",
       "      <td>87</td>\n",
       "      <td>70</td>\n",
       "      <td>72</td>\n",
       "      <td>74</td>\n",
       "      <td>84</td>\n",
       "      <td>78</td>\n",
       "      <td>93</td>\n",
       "      <td>104</td>\n",
       "      <td>106</td>\n",
       "      <td>106</td>\n",
       "      <td>...</td>\n",
       "      <td>84</td>\n",
       "      <td>71</td>\n",
       "      <td>95</td>\n",
       "      <td>102</td>\n",
       "      <td>94</td>\n",
       "      <td>80</td>\n",
       "      <td>91</td>\n",
       "      <td>80</td>\n",
       "      <td>84</td>\n",
       "      <td>90</td>\n",
       "    </tr>\n",
       "    <tr>\n",
       "      <th>3</th>\n",
       "      <td>0</td>\n",
       "      <td>0</td>\n",
       "      <td>0</td>\n",
       "      <td>0</td>\n",
       "      <td>0</td>\n",
       "      <td>0</td>\n",
       "      <td>0</td>\n",
       "      <td>0</td>\n",
       "      <td>0</td>\n",
       "      <td>0</td>\n",
       "      <td>...</td>\n",
       "      <td>94</td>\n",
       "      <td>81</td>\n",
       "      <td>89</td>\n",
       "      <td>84</td>\n",
       "      <td>80</td>\n",
       "      <td>90</td>\n",
       "      <td>92</td>\n",
       "      <td>80</td>\n",
       "      <td>88</td>\n",
       "      <td>96</td>\n",
       "    </tr>\n",
       "    <tr>\n",
       "      <th>4</th>\n",
       "      <td>114</td>\n",
       "      <td>118</td>\n",
       "      <td>124</td>\n",
       "      <td>119</td>\n",
       "      <td>95</td>\n",
       "      <td>118</td>\n",
       "      <td>105</td>\n",
       "      <td>116</td>\n",
       "      <td>123</td>\n",
       "      <td>112</td>\n",
       "      <td>...</td>\n",
       "      <td>116</td>\n",
       "      <td>113</td>\n",
       "      <td>102</td>\n",
       "      <td>93</td>\n",
       "      <td>109</td>\n",
       "      <td>104</td>\n",
       "      <td>106</td>\n",
       "      <td>117</td>\n",
       "      <td>111</td>\n",
       "      <td>115</td>\n",
       "    </tr>\n",
       "  </tbody>\n",
       "</table>\n",
       "<p>5 rows × 12100 columns</p>\n",
       "</div>"
      ],
      "text/plain": [
       "   0      1      2      3      4      5      6      7      8      9      ...  \\\n",
       "0     95    101     99    103     95     86     96     89     70    104  ...   \n",
       "1     91     92     91     89     92     93     96    101    107    104  ...   \n",
       "2     87     70     72     74     84     78     93    104    106    106  ...   \n",
       "3      0      0      0      0      0      0      0      0      0      0  ...   \n",
       "4    114    118    124    119     95    118    105    116    123    112  ...   \n",
       "\n",
       "   12090  12091  12092  12093  12094  12095  12096  12097  12098  12099  \n",
       "0    111    107     92     89    103     99    117    116    118     96  \n",
       "1    103     92     93     95     98    105    104    100     90     81  \n",
       "2     84     71     95    102     94     80     91     80     84     90  \n",
       "3     94     81     89     84     80     90     92     80     88     96  \n",
       "4    116    113    102     93    109    104    106    117    111    115  \n",
       "\n",
       "[5 rows x 12100 columns]"
      ]
     },
     "execution_count": 7,
     "metadata": {},
     "output_type": "execute_result"
    }
   ],
   "source": [
    "#X.head()"
   ]
  },
  {
   "cell_type": "code",
   "execution_count": 17,
   "metadata": {},
   "outputs": [
    {
     "data": {
      "text/plain": [
       "(7000, 12100)"
      ]
     },
     "execution_count": 17,
     "metadata": {},
     "output_type": "execute_result"
    }
   ],
   "source": [
    "#X.shape"
   ]
  },
  {
   "cell_type": "code",
   "execution_count": 94,
   "metadata": {},
   "outputs": [
    {
     "data": {
      "text/plain": [
       "array([1, 0, 0, ..., 0, 0, 0])"
      ]
     },
     "execution_count": 94,
     "metadata": {},
     "output_type": "execute_result"
    }
   ],
   "source": [
    "y"
   ]
  },
  {
   "cell_type": "code",
   "execution_count": 18,
   "metadata": {},
   "outputs": [
    {
     "data": {
      "text/plain": [
       "(7000, 4)"
      ]
     },
     "execution_count": 18,
     "metadata": {},
     "output_type": "execute_result"
    }
   ],
   "source": [
    "#y.shape"
   ]
  },
  {
   "cell_type": "markdown",
   "metadata": {},
   "source": [
    "**Lets check the balence of the classes before we split our data for training**"
   ]
  },
  {
   "cell_type": "code",
   "execution_count": 6,
   "metadata": {},
   "outputs": [
    {
     "data": {
      "image/png": "[encoded data removed]",
      "text/plain": [
       "<Figure size 432x288 with 1 Axes>"
      ]
     },
     "metadata": {
      "needs_background": "light"
     },
     "output_type": "display_data"
    }
   ],
   "source": [
    "from src.volcano import class_imbalanced_plot\n",
    "import matplotlib.pyplot as plt\n",
    "class_imbalanced_plot(y)\n"
   ]
  },
  {
   "cell_type": "markdown",
   "metadata": {},
   "source": [
    "**I will have to choose a technique for resampleing. there are sevrale ways to deal with imbalenced class:**\n",
    " - Augmentaion: create more minority class images by flipping, rotating, croping, or changing image quality of samples and saving as new samples\n",
    " - Under sampleing: by why throw out data - may cause over fitting\n",
    " - SMOTE: sintheticaly making more samples from minority class samples\n",
    " - weighting classes: (I read that this does work will woth image data)\n",
    " \n",
    "**I Think what i wil do is try my model with both smoting and augmentation at some point. Firsti will go with smoteing becaseu for my spacific data set , al images are with the same exact resolutotion and croping.**\n",
    "\n",
    "**Lets try making a few synthetic samples of volcano imahges and see who they looks**\n",
    "\n",
    "**But first lets do a train test split**"
   ]
  },
  {
   "cell_type": "code",
   "execution_count": 5,
   "metadata": {},
   "outputs": [],
   "source": [
    "from sklearn.model_selection import train_test_split"
   ]
  },
  {
   "cell_type": "code",
   "execution_count": 7,
   "metadata": {},
   "outputs": [],
   "source": [
    "#X_train, X_test,y_train,y_test = train_test_split(X,y,test_size=.20, random_state=666)"
   ]
  },
  {
   "cell_type": "code",
   "execution_count": 7,
   "metadata": {},
   "outputs": [],
   "source": [
    "from src.volcano import volcano_images\n"
   ]
  },
  {
   "cell_type": "code",
   "execution_count": 11,
   "metadata": {},
   "outputs": [],
   "source": [
    "import matplotlib.pyplot as plt\n",
    "\n"
   ]
  },
  {
   "cell_type": "code",
   "execution_count": 10,
   "metadata": {
    "scrolled": true
   },
   "outputs": [
    {
     "data": {
      "image/png": "[encoded data removed]",
      "text/plain": [
       "<Figure size 432x288 with 10 Axes>"
      ]
     },
     "metadata": {},
     "output_type": "display_data"
    }
   ],
   "source": [
    "volcano_images(X,y)"
   ]
  },
  {
   "cell_type": "markdown",
   "metadata": {},
   "source": [
    "**Lets try to get my X into the correct shape to feed into a CNN**"
   ]
  },
  {
   "cell_type": "code",
   "execution_count": 11,
   "metadata": {},
   "outputs": [],
   "source": [
    "#from tensorflow.keras.models import Sequential\n",
    "#from tensorflow.keras.layers import Conv2D, MaxPooling2D, Flatten, Dense, Reshape\n"
   ]
  },
  {
   "cell_type": "code",
   "execution_count": 6,
   "metadata": {},
   "outputs": [],
   "source": [
    "import numpy as np\n",
    "import pandas as pd"
   ]
  },
  {
   "cell_type": "markdown",
   "metadata": {},
   "source": [
    "**Lets try this another way**"
   ]
  },
  {
   "cell_type": "code",
   "execution_count": 7,
   "metadata": {},
   "outputs": [],
   "source": [
    "\n",
    "\n",
    "from tensorflow import keras\n",
    "from tensorflow.keras.models import Sequential\n",
    "from tensorflow.keras.layers import Dense, Flatten, Conv2D, MaxPooling2D, MaxPool2D, Dropout\n",
    "\n"
   ]
  },
  {
   "cell_type": "code",
   "execution_count": 8,
   "metadata": {},
   "outputs": [],
   "source": [
    "Xtrain =  X/256\n",
    "ytrain = y['Volcano?']\n"
   ]
  },
  {
   "cell_type": "code",
   "execution_count": 9,
   "metadata": {},
   "outputs": [],
   "source": [
    "from sklearn.model_selection import train_test_split"
   ]
  },
  {
   "cell_type": "code",
   "execution_count": 9,
   "metadata": {},
   "outputs": [],
   "source": [
    "img_rows, img_cols = 110, 110\n",
    "\n",
    "X = Xtrain.values.reshape((-1, img_rows, img_cols, 1))\n",
    "y = ytrain.values\n",
    "X_train, X_vali, y_train, y_vali = train_test_split(X, y, test_size = 0.2, random_state = 666)\n",
    "\n",
    "\n",
    "#X_test = Xtest_raw.values.reshape((-1, img_rows, img_cols, 1))\n",
    "#y_test = ytest_raw.values"
   ]
  },
  {
   "cell_type": "code",
   "execution_count": 51,
   "metadata": {},
   "outputs": [],
   "source": [
    "modelCNN1 = Sequential()\n",
    "modelCNN1.add(Conv2D(6, kernel_size = (3,3), activation = 'relu', input_shape = (img_rows, img_cols, 1)))\n",
    "modelCNN1.add(MaxPool2D(pool_size=(2,2), strides=2))\n",
    "modelCNN1.add(Dropout(0.5))\n",
    "modelCNN1.add(Conv2D(12, kernel_size = (3,3), activation = 'relu'))\n",
    "modelCNN1.add(MaxPool2D(pool_size=(2,2), strides=2))\n",
    "modelCNN1.add(Dropout(0.5))\n",
    "#modelCNN1.add(Conv2D(24, kernel_size = (3,3), activation = 'relu'))\n",
    "#modelCNN1.add(MaxPool2D(pool_size=(2,2), strides=2))\n",
    "#modelCNN1.add(Dropout(0.5))\n",
    "modelCNN1.add(Flatten())\n",
    "modelCNN1.add(Dense(12,activation = 'relu'))\n",
    "modelCNN1.add(Dense(1, activation = 'sigmoid'))"
   ]
  },
  {
   "cell_type": "code",
   "execution_count": 17,
   "metadata": {},
   "outputs": [
    {
     "name": "stdout",
     "output_type": "stream",
     "text": [
      "Model: \"sequential\"\n",
      "_________________________________________________________________\n",
      "Layer (type)                 Output Shape              Param #   \n",
      "=================================================================\n",
      "conv2d (Conv2D)              (None, 108, 108, 6)       60        \n",
      "_________________________________________________________________\n",
      "max_pooling2d (MaxPooling2D) (None, 54, 54, 6)         0         \n",
      "_________________________________________________________________\n",
      "dropout (Dropout)            (None, 54, 54, 6)         0         \n",
      "_________________________________________________________________\n",
      "conv2d_1 (Conv2D)            (None, 52, 52, 12)        660       \n",
      "_________________________________________________________________\n",
      "max_pooling2d_1 (MaxPooling2 (None, 26, 26, 12)        0         \n",
      "_________________________________________________________________\n",
      "dropout_1 (Dropout)          (None, 26, 26, 12)        0         \n",
      "_________________________________________________________________\n",
      "flatten (Flatten)            (None, 8112)              0         \n",
      "_________________________________________________________________\n",
      "dense (Dense)                (None, 12)                97356     \n",
      "_________________________________________________________________\n",
      "dense_1 (Dense)              (None, 1)                 13        \n",
      "=================================================================\n",
      "Total params: 98,089\n",
      "Trainable params: 98,089\n",
      "Non-trainable params: 0\n",
      "_________________________________________________________________\n"
     ]
    }
   ],
   "source": [
    "modelCNN1.summary()"
   ]
  },
  {
   "cell_type": "code",
   "execution_count": 52,
   "metadata": {},
   "outputs": [],
   "source": [
    "metrics1 = ['accuracy','TruePositives', 'TrueNegatives','FalsePositives','FalseNegatives','Precision','Recall']\n",
    "metrics2 = ['Precision','Recall','accuracy']"
   ]
  },
  {
   "cell_type": "code",
   "execution_count": 53,
   "metadata": {},
   "outputs": [],
   "source": [
    "modelCNN1.compile(loss = 'binary_crossentropy', optimizer = 'adam', metrics = metrics1)"
   ]
  },
  {
   "cell_type": "code",
   "execution_count": 20,
   "metadata": {},
   "outputs": [
    {
     "ename": "ModuleNotFoundError",
     "evalue": "No module named 'tf'",
     "output_type": "error",
     "traceback": [
      "\u001b[0;31m---------------------------------------------------------------------------\u001b[0m",
      "\u001b[0;31mModuleNotFoundError\u001b[0m                       Traceback (most recent call last)",
      "\u001b[0;32m<ipython-input-20-68c00f80dc8c>\u001b[0m in \u001b[0;36m<module>\u001b[0;34m\u001b[0m\n\u001b[0;32m----> 1\u001b[0;31m \u001b[0;32mfrom\u001b[0m \u001b[0mtf\u001b[0m\u001b[0;34m.\u001b[0m\u001b[0mkeras\u001b[0m\u001b[0;34m.\u001b[0m\u001b[0mcallbacks\u001b[0m \u001b[0;32mimport\u001b[0m \u001b[0mEarlyStopping\u001b[0m\u001b[0;34m\u001b[0m\u001b[0;34m\u001b[0m\u001b[0m\n\u001b[0m\u001b[1;32m      2\u001b[0m \u001b[0mcallBack\u001b[0m \u001b[0;34m=\u001b[0m \u001b[0mEarlyStopping\u001b[0m\u001b[0;34m(\u001b[0m\u001b[0mmonitor\u001b[0m\u001b[0;34m=\u001b[0m\u001b[0;34m'val_loss'\u001b[0m\u001b[0;34m,\u001b[0m \u001b[0mmin_delta\u001b[0m\u001b[0;34m=\u001b[0m\u001b[0;36m0\u001b[0m\u001b[0;34m,\u001b[0m \u001b[0mpatience\u001b[0m\u001b[0;34m=\u001b[0m\u001b[0;36m15\u001b[0m\u001b[0;34m,\u001b[0m \u001b[0mverbose\u001b[0m\u001b[0;34m=\u001b[0m\u001b[0;36m0\u001b[0m\u001b[0;34m,\u001b[0m \u001b[0mmode\u001b[0m\u001b[0;34m=\u001b[0m\u001b[0;34m'auto'\u001b[0m\u001b[0;34m)\u001b[0m\u001b[0;34m\u001b[0m\u001b[0;34m\u001b[0m\u001b[0m\n",
      "\u001b[0;31mModuleNotFoundError\u001b[0m: No module named 'tf'"
     ]
    }
   ],
   "source": [
    "#from tf.keras.callbacks import EarlyStopping\n",
    "#callBack = EarlyStopping(monitor='val_loss', min_delta=0, patience=15, verbose=0, mode='auto')"
   ]
  },
  {
   "cell_type": "code",
   "execution_count": 54,
   "metadata": {},
   "outputs": [],
   "source": [
    "epochs =15\n",
    "batch_size = 32"
   ]
  },
  {
   "cell_type": "code",
   "execution_count": 55,
   "metadata": {},
   "outputs": [
    {
     "name": "stdout",
     "output_type": "stream",
     "text": [
      "Epoch 1/15\n",
      "175/175 [==============================] - 12s 71ms/step - loss: 0.4191 - accuracy: 0.8570 - true_positives: 1.0000 - true_negatives: 4798.0000 - false_positives: 7.0000 - false_negatives: 794.0000 - precision: 0.1250 - recall: 0.0013 - val_loss: 0.6398 - val_accuracy: 0.8536 - val_true_positives: 0.0000e+00 - val_true_negatives: 1195.0000 - val_false_positives: 0.0000e+00 - val_false_negatives: 205.0000 - val_precision: 0.0000e+00 - val_recall: 0.0000e+00\n",
      "Epoch 2/15\n",
      "175/175 [==============================] - 13s 75ms/step - loss: 0.4069 - accuracy: 0.8580 - true_positives: 0.0000e+00 - true_negatives: 4805.0000 - false_positives: 0.0000e+00 - false_negatives: 795.0000 - precision: 0.0000e+00 - recall: 0.0000e+00 - val_loss: 0.6395 - val_accuracy: 0.8536 - val_true_positives: 0.0000e+00 - val_true_negatives: 1195.0000 - val_false_positives: 0.0000e+00 - val_false_negatives: 205.0000 - val_precision: 0.0000e+00 - val_recall: 0.0000e+00\n",
      "Epoch 3/15\n",
      "175/175 [==============================] - 15s 86ms/step - loss: 0.3989 - accuracy: 0.8580 - true_positives: 0.0000e+00 - true_negatives: 4805.0000 - false_positives: 0.0000e+00 - false_negatives: 795.0000 - precision: 0.0000e+00 - recall: 0.0000e+00 - val_loss: 0.6235 - val_accuracy: 0.8536 - val_true_positives: 0.0000e+00 - val_true_negatives: 1195.0000 - val_false_positives: 0.0000e+00 - val_false_negatives: 205.0000 - val_precision: 0.0000e+00 - val_recall: 0.0000e+00\n",
      "Epoch 4/15\n",
      "175/175 [==============================] - 15s 86ms/step - loss: 0.3956 - accuracy: 0.8580 - true_positives: 0.0000e+00 - true_negatives: 4805.0000 - false_positives: 0.0000e+00 - false_negatives: 795.0000 - precision: 0.0000e+00 - recall: 0.0000e+00 - val_loss: 0.6105 - val_accuracy: 0.8536 - val_true_positives: 0.0000e+00 - val_true_negatives: 1195.0000 - val_false_positives: 0.0000e+00 - val_false_negatives: 205.0000 - val_precision: 0.0000e+00 - val_recall: 0.0000e+00\n",
      "Epoch 5/15\n",
      "175/175 [==============================] - 15s 87ms/step - loss: 0.3722 - accuracy: 0.8580 - true_positives: 0.0000e+00 - true_negatives: 4805.0000 - false_positives: 0.0000e+00 - false_negatives: 795.0000 - precision: 0.0000e+00 - recall: 0.0000e+00 - val_loss: 0.5746 - val_accuracy: 0.8536 - val_true_positives: 0.0000e+00 - val_true_negatives: 1195.0000 - val_false_positives: 0.0000e+00 - val_false_negatives: 205.0000 - val_precision: 0.0000e+00 - val_recall: 0.0000e+00\n",
      "Epoch 6/15\n",
      "175/175 [==============================] - 15s 88ms/step - loss: 0.3371 - accuracy: 0.8580 - true_positives: 0.0000e+00 - true_negatives: 4805.0000 - false_positives: 0.0000e+00 - false_negatives: 795.0000 - precision: 0.0000e+00 - recall: 0.0000e+00 - val_loss: 0.4142 - val_accuracy: 0.8536 - val_true_positives: 0.0000e+00 - val_true_negatives: 1195.0000 - val_false_positives: 0.0000e+00 - val_false_negatives: 205.0000 - val_precision: 0.0000e+00 - val_recall: 0.0000e+00\n",
      "Epoch 7/15\n",
      "175/175 [==============================] - 15s 88ms/step - loss: 0.2925 - accuracy: 0.8580 - true_positives: 0.0000e+00 - true_negatives: 4805.0000 - false_positives: 0.0000e+00 - false_negatives: 795.0000 - precision: 0.0000e+00 - recall: 0.0000e+00 - val_loss: 0.3770 - val_accuracy: 0.8536 - val_true_positives: 0.0000e+00 - val_true_negatives: 1195.0000 - val_false_positives: 0.0000e+00 - val_false_negatives: 205.0000 - val_precision: 0.0000e+00 - val_recall: 0.0000e+00\n",
      "Epoch 8/15\n",
      "175/175 [==============================] - 15s 88ms/step - loss: 0.2699 - accuracy: 0.8905 - true_positives: 221.0000 - true_negatives: 4766.0000 - false_positives: 39.0000 - false_negatives: 574.0000 - precision: 0.8500 - recall: 0.2780 - val_loss: 0.2709 - val_accuracy: 0.9186 - val_true_positives: 104.0000 - val_true_negatives: 1182.0000 - val_false_positives: 13.0000 - val_false_negatives: 101.0000 - val_precision: 0.8889 - val_recall: 0.5073\n",
      "Epoch 9/15\n",
      "175/175 [==============================] - 15s 88ms/step - loss: 0.2622 - accuracy: 0.9038 - true_positives: 321.0000 - true_negatives: 4740.0000 - false_positives: 65.0000 - false_negatives: 474.0000 - precision: 0.8316 - recall: 0.4038 - val_loss: 0.2754 - val_accuracy: 0.9200 - val_true_positives: 106.0000 - val_true_negatives: 1182.0000 - val_false_positives: 13.0000 - val_false_negatives: 99.0000 - val_precision: 0.8908 - val_recall: 0.5171\n",
      "Epoch 10/15\n",
      "175/175 [==============================] - 15s 88ms/step - loss: 0.2510 - accuracy: 0.9084 - true_positives: 371.0000 - true_negatives: 4716.0000 - false_positives: 89.0000 - false_negatives: 424.0000 - precision: 0.8065 - recall: 0.4667 - val_loss: 0.2331 - val_accuracy: 0.9214 - val_true_positives: 104.0000 - val_true_negatives: 1186.0000 - val_false_positives: 9.0000 - val_false_negatives: 101.0000 - val_precision: 0.9204 - val_recall: 0.5073\n",
      "Epoch 11/15\n",
      "175/175 [==============================] - 15s 88ms/step - loss: 0.2464 - accuracy: 0.9157 - true_positives: 410.0000 - true_negatives: 4718.0000 - false_positives: 87.0000 - false_negatives: 385.0000 - precision: 0.8249 - recall: 0.5157 - val_loss: 0.2494 - val_accuracy: 0.9364 - val_true_positives: 149.0000 - val_true_negatives: 1162.0000 - val_false_positives: 33.0000 - val_false_negatives: 56.0000 - val_precision: 0.8187 - val_recall: 0.7268\n",
      "Epoch 12/15\n",
      "175/175 [==============================] - 15s 88ms/step - loss: 0.2388 - accuracy: 0.9150 - true_positives: 411.0000 - true_negatives: 4713.0000 - false_positives: 92.0000 - false_negatives: 384.0000 - precision: 0.8171 - recall: 0.5170 - val_loss: 0.2248 - val_accuracy: 0.9450 - val_true_positives: 144.0000 - val_true_negatives: 1179.0000 - val_false_positives: 16.0000 - val_false_negatives: 61.0000 - val_precision: 0.9000 - val_recall: 0.7024\n",
      "Epoch 13/15\n",
      "175/175 [==============================] - 16s 89ms/step - loss: 0.2305 - accuracy: 0.9195 - true_positives: 429.0000 - true_negatives: 4720.0000 - false_positives: 85.0000 - false_negatives: 366.0000 - precision: 0.8346 - recall: 0.5396 - val_loss: 0.2223 - val_accuracy: 0.9357 - val_true_positives: 146.0000 - val_true_negatives: 1164.0000 - val_false_positives: 31.0000 - val_false_negatives: 59.0000 - val_precision: 0.8249 - val_recall: 0.7122\n",
      "Epoch 14/15\n",
      "175/175 [==============================] - 15s 88ms/step - loss: 0.2239 - accuracy: 0.9225 - true_positives: 481.0000 - true_negatives: 4685.0000 - false_positives: 120.0000 - false_negatives: 314.0000 - precision: 0.8003 - recall: 0.6050 - val_loss: 0.2273 - val_accuracy: 0.9457 - val_true_positives: 146.0000 - val_true_negatives: 1178.0000 - val_false_positives: 17.0000 - val_false_negatives: 59.0000 - val_precision: 0.8957 - val_recall: 0.7122\n",
      "Epoch 15/15\n",
      "175/175 [==============================] - 16s 91ms/step - loss: 0.2178 - accuracy: 0.9255 - true_positives: 474.0000 - true_negatives: 4709.0000 - false_positives: 96.0000 - false_negatives: 321.0000 - precision: 0.8316 - recall: 0.5962 - val_loss: 0.2335 - val_accuracy: 0.9371 - val_true_positives: 151.0000 - val_true_negatives: 1161.0000 - val_false_positives: 34.0000 - val_false_negatives: 54.0000 - val_precision: 0.8162 - val_recall: 0.7366\n"
     ]
    }
   ],
   "source": [
    "model3 = modelCNN1.fit(X_train, y_train, epochs=epochs, batch_size=batch_size, \n",
    "                        validation_data=(X_vali, y_vali)\n",
    "                       )\n"
   ]
  },
  {
   "cell_type": "code",
   "execution_count": 19,
   "metadata": {},
   "outputs": [
    {
     "name": "stdout",
     "output_type": "stream",
     "text": [
      "Saved model to disk\n"
     ]
    }
   ],
   "source": [
    "modelCNN1.save(\"model3.h5\")\n",
    "print(\"Saved model to disk\")"
   ]
  },
  {
   "cell_type": "code",
   "execution_count": 104,
   "metadata": {},
   "outputs": [],
   "source": [
    "historyCNN1 = model3.history"
   ]
  },
  {
   "cell_type": "code",
   "execution_count": 56,
   "metadata": {},
   "outputs": [],
   "source": [
    "import pickle\n",
    "\n",
    "with open('trainhistory/history3', 'wb') as file_pi:\n",
    "        pickle.dump(historyCNN1, file_pi)"
   ]
  },
  {
   "cell_type": "code",
   "execution_count": 103,
   "metadata": {},
   "outputs": [
    {
     "name": "stdout",
     "output_type": "stream",
     "text": [
      "<tensorflow.python.keras.callbacks.History object at 0x7f17f8e84950>\n"
     ]
    }
   ],
   "source": [
    "modelCNN1.history\n"
   ]
  },
  {
   "cell_type": "code",
   "execution_count": 105,
   "metadata": {
    "scrolled": false
   },
   "outputs": [
    {
     "data": {
      "text/plain": [
       "{'loss': [0.4191390872001648,\n",
       "  0.40685412287712097,\n",
       "  0.3988928198814392,\n",
       "  0.39562979340553284,\n",
       "  0.372185617685318,\n",
       "  0.3371299207210541,\n",
       "  0.2925393581390381,\n",
       "  0.2699395418167114,\n",
       "  0.2621895372867584,\n",
       "  0.2509539723396301,\n",
       "  0.24643170833587646,\n",
       "  0.23876914381980896,\n",
       "  0.23054936528205872,\n",
       "  0.22392292320728302,\n",
       "  0.21782104671001434],\n",
       " 'accuracy': [0.8569642901420593,\n",
       "  0.8580357432365417,\n",
       "  0.8580357432365417,\n",
       "  0.8580357432365417,\n",
       "  0.8580357432365417,\n",
       "  0.8580357432365417,\n",
       "  0.8580357432365417,\n",
       "  0.8905357122421265,\n",
       "  0.9037500023841858,\n",
       "  0.9083928465843201,\n",
       "  0.9157142639160156,\n",
       "  0.9150000214576721,\n",
       "  0.9194642901420593,\n",
       "  0.9225000143051147,\n",
       "  0.9255357384681702],\n",
       " 'true_positives': [1.0,\n",
       "  0.0,\n",
       "  0.0,\n",
       "  0.0,\n",
       "  0.0,\n",
       "  0.0,\n",
       "  0.0,\n",
       "  221.0,\n",
       "  321.0,\n",
       "  371.0,\n",
       "  410.0,\n",
       "  411.0,\n",
       "  429.0,\n",
       "  481.0,\n",
       "  474.0],\n",
       " 'true_negatives': [4798.0,\n",
       "  4805.0,\n",
       "  4805.0,\n",
       "  4805.0,\n",
       "  4805.0,\n",
       "  4805.0,\n",
       "  4805.0,\n",
       "  4766.0,\n",
       "  4740.0,\n",
       "  4716.0,\n",
       "  4718.0,\n",
       "  4713.0,\n",
       "  4720.0,\n",
       "  4685.0,\n",
       "  4709.0],\n",
       " 'false_positives': [7.0,\n",
       "  0.0,\n",
       "  0.0,\n",
       "  0.0,\n",
       "  0.0,\n",
       "  0.0,\n",
       "  0.0,\n",
       "  39.0,\n",
       "  65.0,\n",
       "  89.0,\n",
       "  87.0,\n",
       "  92.0,\n",
       "  85.0,\n",
       "  120.0,\n",
       "  96.0],\n",
       " 'false_negatives': [794.0,\n",
       "  795.0,\n",
       "  795.0,\n",
       "  795.0,\n",
       "  795.0,\n",
       "  795.0,\n",
       "  795.0,\n",
       "  574.0,\n",
       "  474.0,\n",
       "  424.0,\n",
       "  385.0,\n",
       "  384.0,\n",
       "  366.0,\n",
       "  314.0,\n",
       "  321.0],\n",
       " 'precision': [0.125,\n",
       "  0.0,\n",
       "  0.0,\n",
       "  0.0,\n",
       "  0.0,\n",
       "  0.0,\n",
       "  0.0,\n",
       "  0.8500000238418579,\n",
       "  0.8316062092781067,\n",
       "  0.8065217137336731,\n",
       "  0.8249496817588806,\n",
       "  0.8170974254608154,\n",
       "  0.8346303701400757,\n",
       "  0.80033278465271,\n",
       "  0.8315789699554443],\n",
       " 'recall': [0.0012578616151586175,\n",
       "  0.0,\n",
       "  0.0,\n",
       "  0.0,\n",
       "  0.0,\n",
       "  0.0,\n",
       "  0.0,\n",
       "  0.27798742055892944,\n",
       "  0.40377357602119446,\n",
       "  0.46666666865348816,\n",
       "  0.5157232880592346,\n",
       "  0.5169811248779297,\n",
       "  0.5396226644515991,\n",
       "  0.605031430721283,\n",
       "  0.5962263941764832],\n",
       " 'val_loss': [0.639761745929718,\n",
       "  0.6394694447517395,\n",
       "  0.623458743095398,\n",
       "  0.61054927110672,\n",
       "  0.5746027827262878,\n",
       "  0.4142320454120636,\n",
       "  0.37698325514793396,\n",
       "  0.2708701491355896,\n",
       "  0.2753508687019348,\n",
       "  0.23307189345359802,\n",
       "  0.24943344295024872,\n",
       "  0.22484160959720612,\n",
       "  0.22231221199035645,\n",
       "  0.22726985812187195,\n",
       "  0.23350884020328522],\n",
       " 'val_accuracy': [0.8535714149475098,\n",
       "  0.8535714149475098,\n",
       "  0.8535714149475098,\n",
       "  0.8535714149475098,\n",
       "  0.8535714149475098,\n",
       "  0.8535714149475098,\n",
       "  0.8535714149475098,\n",
       "  0.918571412563324,\n",
       "  0.9200000166893005,\n",
       "  0.9214285612106323,\n",
       "  0.9364285469055176,\n",
       "  0.9449999928474426,\n",
       "  0.9357143044471741,\n",
       "  0.9457142949104309,\n",
       "  0.9371428489685059],\n",
       " 'val_true_positives': [0.0,\n",
       "  0.0,\n",
       "  0.0,\n",
       "  0.0,\n",
       "  0.0,\n",
       "  0.0,\n",
       "  0.0,\n",
       "  104.0,\n",
       "  106.0,\n",
       "  104.0,\n",
       "  149.0,\n",
       "  144.0,\n",
       "  146.0,\n",
       "  146.0,\n",
       "  151.0],\n",
       " 'val_true_negatives': [1195.0,\n",
       "  1195.0,\n",
       "  1195.0,\n",
       "  1195.0,\n",
       "  1195.0,\n",
       "  1195.0,\n",
       "  1195.0,\n",
       "  1182.0,\n",
       "  1182.0,\n",
       "  1186.0,\n",
       "  1162.0,\n",
       "  1179.0,\n",
       "  1164.0,\n",
       "  1178.0,\n",
       "  1161.0],\n",
       " 'val_false_positives': [0.0,\n",
       "  0.0,\n",
       "  0.0,\n",
       "  0.0,\n",
       "  0.0,\n",
       "  0.0,\n",
       "  0.0,\n",
       "  13.0,\n",
       "  13.0,\n",
       "  9.0,\n",
       "  33.0,\n",
       "  16.0,\n",
       "  31.0,\n",
       "  17.0,\n",
       "  34.0],\n",
       " 'val_false_negatives': [205.0,\n",
       "  205.0,\n",
       "  205.0,\n",
       "  205.0,\n",
       "  205.0,\n",
       "  205.0,\n",
       "  205.0,\n",
       "  101.0,\n",
       "  99.0,\n",
       "  101.0,\n",
       "  56.0,\n",
       "  61.0,\n",
       "  59.0,\n",
       "  59.0,\n",
       "  54.0],\n",
       " 'val_precision': [0.0,\n",
       "  0.0,\n",
       "  0.0,\n",
       "  0.0,\n",
       "  0.0,\n",
       "  0.0,\n",
       "  0.0,\n",
       "  0.8888888955116272,\n",
       "  0.8907563090324402,\n",
       "  0.9203540086746216,\n",
       "  0.8186812996864319,\n",
       "  0.8999999761581421,\n",
       "  0.8248587846755981,\n",
       "  0.89570552110672,\n",
       "  0.816216230392456],\n",
       " 'val_recall': [0.0,\n",
       "  0.0,\n",
       "  0.0,\n",
       "  0.0,\n",
       "  0.0,\n",
       "  0.0,\n",
       "  0.0,\n",
       "  0.507317066192627,\n",
       "  0.5170731544494629,\n",
       "  0.507317066192627,\n",
       "  0.7268292903900146,\n",
       "  0.70243901014328,\n",
       "  0.712195098400116,\n",
       "  0.712195098400116,\n",
       "  0.7365853786468506]}"
      ]
     },
     "execution_count": 105,
     "metadata": {},
     "output_type": "execute_result"
    }
   ],
   "source": [
    "historyCNN1\n"
   ]
  },
  {
   "cell_type": "code",
   "execution_count": 58,
   "metadata": {},
   "outputs": [
    {
     "data": {
      "text/plain": [
       "''"
      ]
     },
     "execution_count": 58,
     "metadata": {},
     "output_type": "execute_result"
    },
    {
     "data": {
      "image/png": "[encoded data removed]",
      "text/plain": [
       "<Figure size 432x288 with 1 Axes>"
      ]
     },
     "metadata": {
      "needs_background": "light"
     },
     "output_type": "display_data"
    }
   ],
   "source": [
    "epochs = list(range(1,len(historyCNN1['loss'])+1))\n",
    "#prec = history3['val_true_positives']/(history3['val_true_positives']+history3['val_false_positives'])\n",
    "plt.plot(epochs,historyCNN1['val_recall'],'-o',label='recall',color='Purple')\n",
    "plt.plot(epochs,historyCNN1['val_precision'],'->',label='precision')\n",
    "#plt.plot(epochs,history3['val_true_negatives'],'-+',label='TN')\n",
    "#plt.plot(epochs,history3['val_false_negatives'],'-s',label='FN')\n",
    "plt.title('Validation scores')\n",
    "plt.grid()\n",
    "plt.legend()\n",
    "plt.xlabel('Epochs')\n",
    "plt.savefig('images/CNN3_val_scores.png')\n",
    ";"
   ]
  },
  {
   "cell_type": "code",
   "execution_count": 26,
   "metadata": {},
   "outputs": [],
   "source": [
    "import numpy as np\n",
    "import matplotlib.pyplot as plt\n"
   ]
  },
  {
   "cell_type": "code",
   "execution_count": null,
   "metadata": {},
   "outputs": [],
   "source": []
  },
  {
   "cell_type": "code",
   "execution_count": 32,
   "metadata": {},
   "outputs": [],
   "source": [
    "from src.volcano import lr_plot"
   ]
  },
  {
   "cell_type": "code",
   "execution_count": 107,
   "metadata": {},
   "outputs": [
    {
     "data": {
      "image/png": "[encoded data removed]",
      "text/plain": [
       "<Figure size 864x288 with 2 Axes>"
      ]
     },
     "metadata": {
      "needs_background": "light"
     },
     "output_type": "display_data"
    }
   ],
   "source": [
    "def lr_plot(history_obj,model_name):\n",
    "    ''' input : model , model_name : tf model, str'''\n",
    "    history = history_obj.history\n",
    "    x_arr = np.arange(len(history['loss']))+1\n",
    "    fig = plt.figure(figsize=(12,4))\n",
    "    ax= fig.add_subplot(1,2,1)\n",
    "    ax.plot(x_arr,history['loss'],'-o',label='train loss')\n",
    "    ax.plot(x_arr,history['val_loss'],'--<',label='validation loss')\n",
    "    ax.legend()\n",
    "    ax.set_xlabel('Epoch',size=15)\n",
    "    ax.set_ylabel('Loss',size=15)\n",
    "\n",
    "    ax = fig.add_subplot(1,2,2)\n",
    "    ax.plot(x_arr,history['accuracy'],'--o',label='train acc')\n",
    "    ax.plot(x_arr,history['val_accuracy'],'-->',label='val acc')\n",
    "    ax.legend()\n",
    "    ax.set_xlabel('Epochs',size=15)\n",
    "    ax.set_ylabel('Score',size=15)\n",
    "    fig.suptitle(model_name,fontsize='16')\n",
    "    plt.savefig('/home/rachel/Galvanize/capstone2/Cap2-repo/images/lr_plot_4acc.png')\n",
    "lr_plot(model3,'CNN 3 : Loss and Accuracy')\n"
   ]
  },
  {
   "cell_type": "code",
   "execution_count": null,
   "metadata": {},
   "outputs": [],
   "source": [
    "val_results = model3.evaluate()"
   ]
  },
  {
   "cell_type": "code",
   "execution_count": 66,
   "metadata": {},
   "outputs": [],
   "source": [
    "tp15 = historyCNN1['val_true_positives'][-1]\n",
    "tn15 =  historyCNN1['val_true_negatives'][-1]\n",
    "fp15 =  historyCNN1['val_false_positives'][-1]\n",
    "fn15 = historyCNN1['val_false_negatives'][-1]"
   ]
  },
  {
   "cell_type": "code",
   "execution_count": 92,
   "metadata": {},
   "outputs": [
    {
     "data": {
      "image/png": "[encoded data removed]",
      "text/plain": [
       "<Figure size 432x288 with 1 Axes>"
      ]
     },
     "metadata": {},
     "output_type": "display_data"
    }
   ],
   "source": [
    "\n",
    "plt.plot()\n",
    "plt.xticks([])\n",
    "plt.yticks([])\n",
    "plt.axhline(.5,color='k')\n",
    "plt.axvline(.5,color='k')\n",
    "#fig.suptite('Validation Confusion')\n",
    "plt.text(.1,.8,f'TP = {round(tp15/(tp15+tn15+fp15+fn15),2)}',size=16)\n",
    "plt.text(.1,.3,f'FP = {round(fp15/(tp15+tn15+fp15+fn15),2)}',size=16)\n",
    "plt.text(.6,.8,f'FN = {round(fn15/(tp15+tn15+fp15+fn15),2)}',size=16)\n",
    "plt.text(.6,.3,f'TN = {round(tn15/(tp15+tn15+fp15+fn15),2)}',size=16)\n",
    "plt.title('Validation CM for Model3')\n",
    "plt.savefig('images/cm_3_15.png')"
   ]
  },
  {
   "cell_type": "code",
   "execution_count": 90,
   "metadata": {},
   "outputs": [
    {
     "data": {
      "text/plain": [
       "7000.0"
      ]
     },
     "execution_count": 90,
     "metadata": {},
     "output_type": "execute_result"
    }
   ],
   "source": [
    "(tp15+tn15+fp15+fn15)\n"
   ]
  },
  {
   "cell_type": "code",
   "execution_count": 108,
   "metadata": {},
   "outputs": [],
   "source": [
    "X_holdout = pd.read_csv('volcanoe-data/volcanoes_test/test_images.csv',header= None)\n",
    "y_holdout = pd.read_csv('volcanoe-data/volcanoes_test/test_labels.csv')\n"
   ]
  },
  {
   "cell_type": "code",
   "execution_count": 109,
   "metadata": {},
   "outputs": [],
   "source": [
    "Xhold =  X_holdout/256\n",
    "yhold = y_holdout['Volcano?']\n",
    "Xhold = Xhold.values.reshape((-1, img_rows, img_cols, 1))\n",
    "yhold = yhold.values"
   ]
  },
  {
   "cell_type": "code",
   "execution_count": 112,
   "metadata": {},
   "outputs": [
    {
     "name": "stdout",
     "output_type": "stream",
     "text": [
      "86/86 [==============================] - 2s 29ms/step - loss: 0.2260 - accuracy: 0.9294 - true_positives: 321.0000 - true_negatives: 2220.0000 - false_positives: 80.0000 - false_negatives: 113.0000 - precision: 0.8005 - recall: 0.7396\n"
     ]
    }
   ],
   "source": [
    "holdout_results = modelCNN1.evaluate(Xhold,yhold)"
   ]
  },
  {
   "cell_type": "code",
   "execution_count": 115,
   "metadata": {},
   "outputs": [],
   "source": [
    "score_list = ['loss','acc','tps','tns','fps','fns','prec','recall']"
   ]
  },
  {
   "cell_type": "code",
   "execution_count": 114,
   "metadata": {},
   "outputs": [
    {
     "data": {
      "text/plain": [
       "[0.22599050402641296,\n",
       " 0.9294074773788452,\n",
       " 321.0,\n",
       " 2220.0,\n",
       " 80.0,\n",
       " 113.0,\n",
       " 0.8004987239837646,\n",
       " 0.7396313548088074]"
      ]
     },
     "execution_count": 114,
     "metadata": {},
     "output_type": "execute_result"
    }
   ],
   "source": [
    "holdout_results"
   ]
  },
  {
   "cell_type": "code",
   "execution_count": 116,
   "metadata": {},
   "outputs": [
    {
     "name": "stdout",
     "output_type": "stream",
     "text": [
      "loss : 0.22599050402641296\n",
      "acc : 0.9294074773788452\n",
      "tps : 321.0\n",
      "tns : 2220.0\n",
      "fps : 80.0\n",
      "fns : 113.0\n",
      "prec : 0.8004987239837646\n",
      "recall : 0.7396313548088074\n"
     ]
    }
   ],
   "source": [
    "for score,num in zip(score_list,holdout_results):\n",
    "    print(f'{score} : {num}')"
   ]
  },
  {
   "cell_type": "code",
   "execution_count": null,
   "metadata": {},
   "outputs": [],
   "source": [
    "pred = modelCNN1(Xhold)"
   ]
  },
  {
   "cell_type": "code",
   "execution_count": 7,
   "metadata": {},
   "outputs": [],
   "source": [
    "import tensorflow as tf\n",
    "from tensorflow import keras\n",
    "from tensorflow.keras.models import load_model"
   ]
  },
  {
   "cell_type": "code",
   "execution_count": 9,
   "metadata": {},
   "outputs": [],
   "source": [
    "model = load_model('model3.h5')"
   ]
  },
  {
   "cell_type": "code",
   "execution_count": null,
   "metadata": {},
   "outputs": [],
   "source": []
  }
 ],
 "metadata": {
  "kernelspec": {
   "display_name": "Python 3",
   "language": "python",
   "name": "python3"
  },
  "language_info": {
   "codemirror_mode": {
    "name": "ipython",
    "version": 3
   },
   "file_extension": ".py",
   "mimetype": "text/x-python",
   "name": "python",
   "nbconvert_exporter": "python",
   "pygments_lexer": "ipython3",
   "version": "3.7.6"
  }
 },
 "nbformat": 4,
 "nbformat_minor": 4
}
